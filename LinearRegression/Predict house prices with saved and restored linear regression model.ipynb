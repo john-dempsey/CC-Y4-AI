{
 "cells": [
  {
   "cell_type": "code",
   "execution_count": 1,
   "id": "793c2c71",
   "metadata": {},
   "outputs": [],
   "source": [
    "# Import libraries\n",
    "import pandas as pd\n",
    "import numpy as np\n",
    "import datetime\n",
    "\n",
    "from sklearn import linear_model"
   ]
  },
  {
   "cell_type": "code",
   "execution_count": 2,
   "id": "265b8c2a",
   "metadata": {},
   "outputs": [],
   "source": [
    "# Import dataset\n",
    "df = pd.read_csv('data.csv')"
   ]
  },
  {
   "cell_type": "code",
   "execution_count": 3,
   "id": "9d02ca89",
   "metadata": {},
   "outputs": [],
   "source": [
    "# Take the variables that will be used\n",
    "df = df[['price', 'bedrooms', 'sqft_living', 'yr_built']]\n",
    "df = df.astype(int)"
   ]
  },
  {
   "cell_type": "code",
   "execution_count": 4,
   "id": "cd9e4d85",
   "metadata": {},
   "outputs": [],
   "source": [
    "# Drop the data with price value = 0\n",
    "df.drop(index = df[df['price'] == 0].index, inplace = True)"
   ]
  },
  {
   "cell_type": "code",
   "execution_count": 5,
   "id": "3a40bd84",
   "metadata": {},
   "outputs": [],
   "source": [
    "# For bedrooms, replace missing data with median value\n",
    "df.bedrooms = df.bedrooms.replace(0, df.bedrooms.median())"
   ]
  },
  {
   "cell_type": "code",
   "execution_count": 6,
   "id": "38764681",
   "metadata": {},
   "outputs": [],
   "source": [
    "# Replace yr_built into yr_renovated if the house was renovated\n",
    "now = datetime.datetime.now()\n",
    "\n",
    "def age(df):\n",
    "    return now.year - df['yr_built']\n",
    "    \n",
    "df['age'] = df.apply(age, axis = 1)\n",
    "\n",
    "# Drop yr_built and yr_renovated\n",
    "df.drop(columns = ['yr_built'], inplace = True)"
   ]
  },
  {
   "cell_type": "code",
   "execution_count": 7,
   "id": "b02d2d33",
   "metadata": {},
   "outputs": [],
   "source": [
    "# Set X and y\n",
    "X = df.drop(columns = ['price'])\n",
    "y = df['price']"
   ]
  },
  {
   "cell_type": "code",
   "execution_count": 8,
   "id": "b1420819",
   "metadata": {},
   "outputs": [
    {
     "data": {
      "text/plain": [
       "LinearRegression()"
      ]
     },
     "execution_count": 8,
     "metadata": {},
     "output_type": "execute_result"
    }
   ],
   "source": [
    "# Create linear regression object\n",
    "reg = linear_model.LinearRegression()\n",
    "reg.fit(X,y)"
   ]
  },
  {
   "cell_type": "code",
   "execution_count": 9,
   "id": "019081eb",
   "metadata": {},
   "outputs": [
    {
     "name": "stdout",
     "output_type": "stream",
     "text": [
      "831009.3054579223\n"
     ]
    }
   ],
   "source": [
    "# Predict price of a home with 3 bedrooms, 3000 sqr ft living area, 40 year old\n",
    "prices = reg.predict([[3, 3000, 40]])\n",
    "print(prices[0])"
   ]
  },
  {
   "cell_type": "code",
   "execution_count": 10,
   "id": "d980115f",
   "metadata": {},
   "outputs": [
    {
     "name": "stdout",
     "output_type": "stream",
     "text": [
      "831009.3054579223\n"
     ]
    }
   ],
   "source": [
    "import pickle\n",
    "\n",
    "with open('model_pickle','wb') as file:\n",
    "    pickle.dump(reg,file)\n",
    "    \n",
    "with open('model_pickle','rb') as file:\n",
    "    mp = pickle.load(file)\n",
    "\n",
    "prices = mp.predict([[3, 3000, 40]])\n",
    "print(prices[0])"
   ]
  },
  {
   "cell_type": "code",
   "execution_count": 11,
   "id": "80f0a51c",
   "metadata": {},
   "outputs": [
    {
     "name": "stdout",
     "output_type": "stream",
     "text": [
      "831009.3054579223\n"
     ]
    }
   ],
   "source": [
    "import joblib\n",
    "\n",
    "joblib.dump(reg, 'model_joblib')\n",
    "\n",
    "mj = joblib.load('model_joblib')\n",
    "\n",
    "prices = mj.predict([[3, 3000, 40]])\n",
    "print(prices[0])"
   ]
  }
 ],
 "metadata": {
  "kernelspec": {
   "display_name": "Python 3 (ipykernel)",
   "language": "python",
   "name": "python3"
  },
  "language_info": {
   "codemirror_mode": {
    "name": "ipython",
    "version": 3
   },
   "file_extension": ".py",
   "mimetype": "text/x-python",
   "name": "python",
   "nbconvert_exporter": "python",
   "pygments_lexer": "ipython3",
   "version": "3.9.7"
  }
 },
 "nbformat": 4,
 "nbformat_minor": 5
}
