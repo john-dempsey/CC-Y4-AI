{
 "cells": [
  {
   "cell_type": "code",
   "execution_count": null,
   "id": "7be91ead-4487-4d29-8b6b-9de472e64274",
   "metadata": {},
   "outputs": [],
   "source": [
    "import pandas as pd\n",
    "import matplotlib.pyplot as plt\n",
    "import seaborn as sns\n",
    "\n",
    "from sklearn.model_selection import train_test_split\n",
    "from sklearn.pipeline import make_pipeline\n",
    "from sklearn.preprocessing import StandardScaler\n",
    "from sklearn.linear_model import LogisticRegression\n",
    "from sklearn.inspection import DecisionBoundaryDisplay"
   ]
  },
  {
   "cell_type": "code",
   "execution_count": null,
   "id": "908f2ffe-c825-45d6-a799-725e1e7a299c",
   "metadata": {},
   "outputs": [],
   "source": [
    "penguins = pd.read_csv(\"datasets/penguins_classification.csv\")\n",
    "\n",
    "# only keep the Adelie and Chinstrap classes\n",
    "penguins = (\n",
    "    penguins.set_index(\"Species\").loc[[\"Adelie\", \"Chinstrap\"]].reset_index()\n",
    ")\n",
    "culmen_columns = [\"Culmen Length (mm)\", \"Culmen Depth (mm)\"]\n",
    "target_column = \"Species\""
   ]
  },
  {
   "cell_type": "code",
   "execution_count": null,
   "id": "0eb03375-38a0-4dca-a6ec-cd9063d44636",
   "metadata": {},
   "outputs": [],
   "source": [
    "for feature_name in culmen_columns:\n",
    "    plt.figure()\n",
    "    # plot the histogram for each specie\n",
    "    penguins.groupby(\"Species\")[feature_name].plot.hist(alpha=0.5, legend=True)\n",
    "    plt.xlabel(feature_name)"
   ]
  },
  {
   "cell_type": "code",
   "execution_count": null,
   "id": "67d64c54-8cfc-442d-8211-dc6db7a812de",
   "metadata": {},
   "outputs": [],
   "source": [
    "penguins_train, penguins_test = train_test_split(penguins, random_state=0)\n",
    "\n",
    "X_train = penguins_train[culmen_columns]\n",
    "X_test = penguins_test[culmen_columns]\n",
    "\n",
    "y_train = penguins_train[target_column]\n",
    "y_test = penguins_test[target_column]"
   ]
  },
  {
   "cell_type": "code",
   "execution_count": null,
   "id": "8b840206-226e-4abe-8c34-e58aff66b2d6",
   "metadata": {},
   "outputs": [],
   "source": [
    "logistic_regression = make_pipeline(StandardScaler(), LogisticRegression())\n",
    "logistic_regression.fit(X_train, y_train)\n",
    "accuracy = logistic_regression.score(X_test, y_test)\n",
    "print(f\"Accuracy on test set: {accuracy:.3f}\")"
   ]
  },
  {
   "cell_type": "code",
   "execution_count": null,
   "id": "2dda787b-2f0c-4ac6-b919-41440552b304",
   "metadata": {},
   "outputs": [],
   "source": [
    "DecisionBoundaryDisplay.from_estimator(\n",
    "    logistic_regression,\n",
    "    X_test,\n",
    "    response_method=\"predict\",\n",
    "    cmap=\"RdBu_r\",\n",
    "    alpha=0.5,\n",
    ")\n",
    "sns.scatterplot(\n",
    "    data=penguins_test,\n",
    "    x=culmen_columns[0],\n",
    "    y=culmen_columns[1],\n",
    "    hue=target_column,\n",
    "    palette=[\"tab:red\", \"tab:blue\"],\n",
    ")\n",
    "_ = plt.title(\"Decision boundary of the trained\\n LogisticRegression\")"
   ]
  },
  {
   "cell_type": "code",
   "execution_count": null,
   "id": "624f0f81-3491-46e3-ab06-1d1d3f55f04d",
   "metadata": {},
   "outputs": [],
   "source": [
    "coefs = logistic_regression[-1].coef_[0]\n",
    "weights = pd.Series(coefs, index=[f\"Weight for '{c}'\" for c in culmen_columns])\n",
    "weights"
   ]
  },
  {
   "cell_type": "code",
   "execution_count": null,
   "id": "f315bae2-91bd-482f-94c9-e2b523b604f6",
   "metadata": {},
   "outputs": [],
   "source": [
    "weights.plot.barh()\n",
    "_ = plt.title(\"Weights of the logistic regression\")"
   ]
  },
  {
   "cell_type": "code",
   "execution_count": null,
   "id": "127b9728-748c-449b-be1e-fe9a06f7c583",
   "metadata": {},
   "outputs": [],
   "source": [
    "test_penguin = pd.DataFrame(\n",
    "    {\"Culmen Length (mm)\": [45], \"Culmen Depth (mm)\": [17]}\n",
    ")\n",
    "logistic_regression.predict(test_penguin)"
   ]
  },
  {
   "cell_type": "code",
   "execution_count": null,
   "id": "de8caad3-507f-403f-85b3-99b880cca189",
   "metadata": {},
   "outputs": [],
   "source": [
    "y_pred_proba = logistic_regression.predict_proba(test_penguin)\n",
    "y_pred_proba"
   ]
  },
  {
   "cell_type": "code",
   "execution_count": null,
   "id": "88e7000f-de17-45a2-a81f-dba5b343db47",
   "metadata": {},
   "outputs": [],
   "source": [
    "y_pred_proba.shape"
   ]
  },
  {
   "cell_type": "code",
   "execution_count": null,
   "id": "773aa896-3ffa-457e-b965-2e33aeec8d3f",
   "metadata": {},
   "outputs": [],
   "source": [
    "y_proba_sample = pd.Series(\n",
    "    y_pred_proba.ravel(), index=logistic_regression.classes_\n",
    ")\n",
    "y_proba_sample.plot.bar()\n",
    "plt.ylabel(\"Estimated probability\")\n",
    "_ = plt.title(\"Probability of the sample belonging to a penguin class\")"
   ]
  },
  {
   "cell_type": "code",
   "execution_count": null,
   "id": "917e958b-3a47-437c-971c-bf9e59924217",
   "metadata": {},
   "outputs": [],
   "source": [
    "DecisionBoundaryDisplay.from_estimator(\n",
    "    logistic_regression,\n",
    "    X_test,\n",
    "    response_method=\"predict_proba\",\n",
    "    cmap=\"RdBu_r\",\n",
    "    alpha=0.5,\n",
    ")\n",
    "sns.scatterplot(\n",
    "    data=penguins_test,\n",
    "    x=culmen_columns[0],\n",
    "    y=culmen_columns[1],\n",
    "    hue=target_column,\n",
    "    palette=[\"tab:red\", \"tab:blue\"],\n",
    ")\n",
    "_ = plt.title(\"Predicted probability of the trained\\n LogisticRegression\")"
   ]
  }
 ],
 "metadata": {
  "kernelspec": {
   "display_name": "Python 3 (ipykernel)",
   "language": "python",
   "name": "python3"
  },
  "language_info": {
   "codemirror_mode": {
    "name": "ipython",
    "version": 3
   },
   "file_extension": ".py",
   "mimetype": "text/x-python",
   "name": "python",
   "nbconvert_exporter": "python",
   "pygments_lexer": "ipython3",
   "version": "3.11.6"
  }
 },
 "nbformat": 4,
 "nbformat_minor": 5
}
